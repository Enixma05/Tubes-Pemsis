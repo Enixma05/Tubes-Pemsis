{
  "nbformat": 4,
  "nbformat_minor": 0,
  "metadata": {
    "colab": {
      "provenance": [],
      "authorship_tag": "ABX9TyNphMLbv7S5kkJl0rFFY5tt",
      "include_colab_link": true
    },
    "kernelspec": {
      "name": "python3",
      "display_name": "Python 3"
    },
    "language_info": {
      "name": "python"
    }
  },
  "cells": [
    {
      "cell_type": "markdown",
      "metadata": {
        "id": "view-in-github",
        "colab_type": "text"
      },
      "source": [
        "<a href=\"https://colab.research.google.com/github/Enixma05/Enixma05/blob/main/Tubes_Pemsis.ipynb\" target=\"_parent\"><img src=\"https://colab.research.google.com/assets/colab-badge.svg\" alt=\"Open In Colab\"/></a>"
      ]
    },
    {
      "cell_type": "markdown",
      "source": [
        "# Hubungan Pendidikan Orang Tua dan Prestasi Matematika Siswa dengan One Way ANOVA\n",
        "\n",
        "### Anggota Kelompok:\n",
        "### -Fadlullah Hasan [F1D02310008]\n",
        "### -Datu Reksa Hamza Putra [F1D02310045]\n",
        "### -Karina Septia Suwandi [F1D02310066]\n",
        "### -Nur Adinda Juniarti [F1D02310129]\n"
      ],
      "metadata": {
        "id": "WQGbuWeTVjhX"
      }
    },
    {
      "cell_type": "markdown",
      "source": [
        "# Asumsi awal (Hipotesis)\n",
        "H0 = Tidak terdapat perbedaan antara\n",
        "pendidikan orang tua dengan prestasi matematika anak\n",
        "\n",
        "H1 = Terdapat perbedaan antara\n",
        "pendidikan orang tua dengan prestasi matematika anak"
      ],
      "metadata": {
        "id": "3pF3urXsygz9"
      }
    },
    {
      "cell_type": "markdown",
      "source": [
        "# Import Library"
      ],
      "metadata": {
        "id": "BDWi-RzxVPzR"
      }
    },
    {
      "cell_type": "code",
      "execution_count": null,
      "metadata": {
        "id": "1tUM7F-2T0tD"
      },
      "outputs": [],
      "source": [
        "import pandas as pd\n",
        "import seaborn as sns\n",
        "import matplotlib.pyplot as plt\n",
        "import scipy.stats as stats\n",
        "from statsmodels.stats.multicomp import pairwise_tukeyhsd"
      ]
    },
    {
      "cell_type": "markdown",
      "source": [
        "# Load Data"
      ],
      "metadata": {
        "id": "vplEf-ObVMQu"
      }
    },
    {
      "cell_type": "markdown",
      "source": [
        "Dataset dapat diunduh pada link berikut: https://www.kaggle.com/datasets/spscientist/students-performance-in-exams"
      ],
      "metadata": {
        "id": "lulBhE4kxC-p"
      }
    },
    {
      "cell_type": "code",
      "source": [
        "!git clone https://github.com/Enixma05/Tubes-Pemsis.git"
      ],
      "metadata": {
        "colab": {
          "base_uri": "https://localhost:8080/"
        },
        "id": "K4E57GWsUIht",
        "outputId": "dddecbc2-b402-4d3c-bad5-56faadd20591"
      },
      "execution_count": null,
      "outputs": [
        {
          "output_type": "stream",
          "name": "stdout",
          "text": [
            "Cloning into 'Tubes-Pemsis'...\n",
            "remote: Enumerating objects: 11, done.\u001b[K\n",
            "remote: Counting objects: 100% (11/11), done.\u001b[K\n",
            "remote: Compressing objects: 100% (9/9), done.\u001b[K\n",
            "remote: Total 11 (delta 1), reused 4 (delta 0), pack-reused 0 (from 0)\u001b[K\n",
            "Receiving objects: 100% (11/11), 185.31 KiB | 7.13 MiB/s, done.\n",
            "Resolving deltas: 100% (1/1), done.\n"
          ]
        }
      ]
    },
    {
      "cell_type": "code",
      "source": [
        "dataset = (\"/content/Tubes-Pemsis/StudentsPerformance.csv\")"
      ],
      "metadata": {
        "id": "z-nzoxwKUlKU"
      },
      "execution_count": null,
      "outputs": []
    },
    {
      "cell_type": "code",
      "source": [
        "df = pd.read_csv(dataset)\n",
        "#nama kolom tidak dianggap\n",
        "df.columns = df.columns.str.strip().str.lower().str.replace(' ', '_')"
      ],
      "metadata": {
        "id": "_lT2z6U3UtHm"
      },
      "execution_count": null,
      "outputs": []
    },
    {
      "cell_type": "code",
      "source": [
        "n = df[\"math_score\"].count()\n",
        "print(n)"
      ],
      "metadata": {
        "colab": {
          "base_uri": "https://localhost:8080/"
        },
        "id": "JSog0-bVgK78",
        "outputId": "2f4b82cc-292c-4dd4-ab47-31bcc7370c09"
      },
      "execution_count": null,
      "outputs": [
        {
          "output_type": "stream",
          "name": "stdout",
          "text": [
            "1000\n"
          ]
        }
      ]
    },
    {
      "cell_type": "markdown",
      "source": [
        "karena banyak data (n) adalah = 1000, maka metode yang digunakan untuk uji normalitas data adalah shapiro-wilk"
      ],
      "metadata": {
        "id": "YftpgIesgZFn"
      }
    },
    {
      "cell_type": "code",
      "source": [
        "print(\"Statistik Deskriptif:\")\n",
        "print(df.groupby('parental_level_of_education')['math_score'].describe())"
      ],
      "metadata": {
        "colab": {
          "base_uri": "https://localhost:8080/"
        },
        "id": "3dj_it83VYg0",
        "outputId": "d6bd94ce-05d5-4879-aa70-2eda54111ff5"
      },
      "execution_count": null,
      "outputs": [
        {
          "output_type": "stream",
          "name": "stdout",
          "text": [
            "Statistik Deskriptif:\n",
            "                             count       mean        std   min    25%   50%  \\\n",
            "parental_level_of_education                                                   \n",
            "associate's degree           222.0  67.882883  15.112093  26.0  57.00  67.0   \n",
            "bachelor's degree            118.0  69.389831  14.943789  29.0  61.00  68.0   \n",
            "high school                  196.0  62.137755  14.539651   8.0  53.75  63.0   \n",
            "master's degree               59.0  69.745763  15.153915  40.0  55.50  73.0   \n",
            "some college                 226.0  67.128319  14.312897  19.0  59.00  67.5   \n",
            "some high school             179.0  63.497207  15.927989   0.0  53.00  65.0   \n",
            "\n",
            "                              75%    max  \n",
            "parental_level_of_education               \n",
            "associate's degree           80.0  100.0  \n",
            "bachelor's degree            79.0  100.0  \n",
            "high school                  72.0   99.0  \n",
            "master's degree              81.0   95.0  \n",
            "some college                 76.0  100.0  \n",
            "some high school             74.0   97.0  \n"
          ]
        }
      ]
    },
    {
      "cell_type": "markdown",
      "source": [
        "# Uji Normalitas"
      ],
      "metadata": {
        "id": "gFdKdYdlVHFy"
      }
    },
    {
      "cell_type": "code",
      "source": [
        "print(\"Uji Normalitas kelompok data:\")\n",
        "for level in df['parental_level_of_education'].unique():\n",
        "    data = df[df['parental_level_of_education'] == level]['math_score']\n",
        "    stat, p = stats.shapiro(data)\n",
        "    print(f\"{level}: p-value = {p:.4f} {'(Normal)' if p > 0.05 else '(Tidak Normal)'}\")"
      ],
      "metadata": {
        "colab": {
          "base_uri": "https://localhost:8080/"
        },
        "id": "lTEd2Ni-Wcop",
        "outputId": "e117a957-54e8-4455-ba9f-8e47ff052131"
      },
      "execution_count": null,
      "outputs": [
        {
          "output_type": "stream",
          "name": "stdout",
          "text": [
            "Uji Normalitas kelompok data:\n",
            "bachelor's degree: p-value = 0.6044 (Normal)\n",
            "some college: p-value = 0.0959 (Normal)\n",
            "master's degree: p-value = 0.0317 (Tidak Normal)\n",
            "associate's degree: p-value = 0.0446 (Tidak Normal)\n",
            "high school: p-value = 0.0652 (Normal)\n",
            "some high school: p-value = 0.0052 (Tidak Normal)\n"
          ]
        }
      ]
    },
    {
      "cell_type": "code",
      "source": [
        "# for level in df['parental_level_of_education'].unique():\n",
        "#     plt.figure(figsize=(6, 4))\n",
        "#     sns.histplot(data, kde=True, bins=20, color='skyblue')\n",
        "#     plt.title(f'Distribusi Math Score - {level}\\nShapiro p = {p:.4f}')\n",
        "#     plt.xlabel('Math Score')\n",
        "#     plt.ylabel('Frekuensi')\n",
        "#     plt.grid(True)\n",
        "#     plt.tight_layout()\n",
        "#     plt.show()"
      ],
      "metadata": {
        "id": "Z_6fpSlIbUHP"
      },
      "execution_count": null,
      "outputs": []
    },
    {
      "cell_type": "markdown",
      "source": [
        "Karena ada beberapa kelompok data yang tidak normal, maka digunakan metode levene untuk uji homogenitas"
      ],
      "metadata": {
        "id": "IOYRqdbkhAbB"
      }
    },
    {
      "cell_type": "markdown",
      "source": [
        "# Uji Homogenitas"
      ],
      "metadata": {
        "id": "7Nji7K4Bea0B"
      }
    },
    {
      "cell_type": "code",
      "source": [
        "groups = [df[df['parental_level_of_education'] == level]['math_score']\n",
        "          for level in df['parental_level_of_education'].unique()]\n",
        "levene_stat, levene_p = stats.levene(*groups)\n",
        "print(f\"\\nUji Homogenitas Varians (Levene): p-value = {levene_p:.4f} {'(Homogen)' if levene_p > 0.05 else '(Tidak Homogen)'}\")"
      ],
      "metadata": {
        "id": "ZCNzbFmsXz6o",
        "colab": {
          "base_uri": "https://localhost:8080/"
        },
        "outputId": "7f508213-f128-4cf7-8c19-6964b3962416"
      },
      "execution_count": null,
      "outputs": [
        {
          "output_type": "stream",
          "name": "stdout",
          "text": [
            "\n",
            "Uji Homogenitas Varians (Levene): p-value = 0.4584 (Homogen)\n"
          ]
        }
      ]
    },
    {
      "cell_type": "markdown",
      "source": [
        "Karena nilai p-value > 0.05(data homogen), maka uji ANOVA dapat dilakukan untuk dataset"
      ],
      "metadata": {
        "id": "bDleaPB6iOyG"
      }
    },
    {
      "cell_type": "markdown",
      "source": [
        "# Uji Anova"
      ],
      "metadata": {
        "id": "KUyrSwaTi92c"
      }
    },
    {
      "cell_type": "code",
      "source": [
        "anova = stats.f_oneway(*groups)\n",
        "print(f\"Uji ANOVA: p-value = {anova.pvalue:.6f} {'(Terdapat Perbedaan Signifikan)' if anova.pvalue < 0.05 else '(Tidak Terdapat Perbedaan Signifikan)'}\")"
      ],
      "metadata": {
        "colab": {
          "base_uri": "https://localhost:8080/"
        },
        "id": "SepIsYPXl51x",
        "outputId": "cea003d8-9fcd-4961-ec3e-69f9305a6c6d"
      },
      "execution_count": null,
      "outputs": [
        {
          "output_type": "stream",
          "name": "stdout",
          "text": [
            "Uji ANOVA: p-value = 0.000006 (Terdapat Perbedaan Signifikan)\n"
          ]
        }
      ]
    },
    {
      "cell_type": "markdown",
      "source": [
        "# Hasil Pengujian\n",
        "Ada perbedaan yang signifikan antara rata-rata yang dihitung dari beberapa kelompok\n",
        "\n",
        "Maka hipotesis yang diterima = H1\n",
        "\n",
        "\n"
      ],
      "metadata": {
        "id": "T3VtCaOrzxDQ"
      }
    },
    {
      "cell_type": "markdown",
      "source": [
        "# Uji Lanjutan"
      ],
      "metadata": {
        "id": "2uJEHFJdx5W7"
      }
    },
    {
      "cell_type": "markdown",
      "source": [
        "Dikarenakan terdapat perbedaan yang signifikan setelah dilakukan uji Anova One-Way, maka diperlukan uji lanjutan dengan metode Tukey HSD (Honestly Significant Difference) untuk mengetahui kelompok mana yang mempunyai perbedaan yang signifikan"
      ],
      "metadata": {
        "id": "kxaoH68wwiPc"
      }
    },
    {
      "cell_type": "code",
      "source": [
        "print(\"\\nUji Lanjutan (Tukey HSD jika ANOVA signifikan):\")\n",
        "tukey_result = pairwise_tukeyhsd(endog=df['math_score'],\n",
        "                                 groups=df['parental_level_of_education'],\n",
        "                                 alpha=0.05)\n",
        "print(tukey_result)"
      ],
      "metadata": {
        "colab": {
          "base_uri": "https://localhost:8080/"
        },
        "id": "Qg8dQNqJyOAx",
        "outputId": "1c3779e2-d62f-4daa-c96b-64da65a10efe"
      },
      "execution_count": null,
      "outputs": [
        {
          "output_type": "stream",
          "name": "stdout",
          "text": [
            "\n",
            "Uji Lanjutan (Tukey HSD jika ANOVA signifikan):\n",
            "            Multiple Comparison of Means - Tukey HSD, FWER=0.05             \n",
            "============================================================================\n",
            "      group1             group2      meandiff p-adj   lower    upper  reject\n",
            "----------------------------------------------------------------------------\n",
            "associate's degree bachelor's degree   1.5069 0.9503  -3.3587  6.3726  False\n",
            "associate's degree       high school  -5.7451 0.0013  -9.9311 -1.5591   True\n",
            "associate's degree   master's degree   1.8629 0.9578  -4.3927  8.1185  False\n",
            "associate's degree      some college  -0.7546 0.9948  -4.7903  3.2812  False\n",
            "associate's degree  some high school  -4.3857 0.0418   -8.676 -0.0954   True\n",
            " bachelor's degree       high school  -7.2521 0.0005 -12.2284 -2.2757   True\n",
            " bachelor's degree   master's degree   0.3559    1.0  -6.4539  7.1658  False\n",
            " bachelor's degree      some college  -2.2615 0.7676  -7.1122  2.5892  False\n",
            " bachelor's degree  some high school  -5.8926 0.0119  -10.957 -0.8282   True\n",
            "       high school   master's degree    7.608 0.0084   1.2659 13.9501   True\n",
            "       high school      some college   4.9906 0.0086    0.822  9.1592   True\n",
            "       high school  some high school   1.3595 0.9515   -3.056  5.7749  False\n",
            "   master's degree      some college  -2.6174 0.8384  -8.8614  3.6265  False\n",
            "   master's degree  some high school  -6.2486 0.0611   -12.66  0.1628  False\n",
            "      some college  some high school  -3.6311 0.1482  -7.9044  0.6422  False\n",
            "----------------------------------------------------------------------------\n"
          ]
        }
      ]
    },
    {
      "cell_type": "markdown",
      "source": [
        "# Visualisasi"
      ],
      "metadata": {
        "id": "2riUX3Ga24Pu"
      }
    },
    {
      "cell_type": "code",
      "source": [
        "plt.figure(figsize=(10, 6))\n",
        "sns.boxplot(x='parental_level_of_education', y='math_score', data=df, palette='Set2')\n",
        "plt.xticks(rotation=45)\n",
        "plt.title('Distribusi Skor Matematika berdasarkan Pendidikan Orang Tua')\n",
        "plt.xlabel('Tingkat Pendidikan Orang Tua')\n",
        "plt.ylabel('Skor Matematika')\n",
        "plt.tight_layout()\n",
        "plt.show()"
      ],
      "metadata": {
        "colab": {
          "base_uri": "https://localhost:8080/",
          "height": 607
        },
        "id": "TSbRbJUQ22TB",
        "outputId": "6787648e-f95a-487d-9deb-bc49d2856f1c"
      },
      "execution_count": null,
      "outputs": [
        {
          "output_type": "display_data",
          "data": {
            "text/plain": [
              "<Figure size 1000x600 with 1 Axes>"
            ],
            "image/png": "[encoded data removed]"
          },
          "metadata": {}
        }
      ]
    },
    {
      "cell_type": "markdown",
      "source": [
        "# Kesimpulan\n",
        "Setelah melakukan uji lanjutan dari hasil uji anova, dapat disimpulkan:\n",
        "\n",
        "-High school secara konsisten memiliki nilai lebih rendah dibanding banyak kelompok lain.\n",
        "\n",
        "-Associate's degree, bachelor's degree, master's degree, dan some college memiliki nilai yang lebih tinggi dari high school secara signifikan.\n",
        "\n",
        "-Tidak ditemukan perbedaan signifikan antar kelompok berpendidikan tinggi (contoh: bachelor's vs master's, associate's vs bachelor's).\n",
        "\n",
        "Semakin tinggi tingkat pendidikan orang tua, semakin tinggi pula kecenderungan skor matematika siswa. Kelompok dengan pendidikan rendah (high school dan some high school)"
      ],
      "metadata": {
        "id": "Kk4RYeea18pQ"
      }
    }
  ]
}