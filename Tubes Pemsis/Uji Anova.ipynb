{
 "cells": [
  {
   "cell_type": "markdown",
   "id": "155265a3",
   "metadata": {},
   "source": [
    "# Perbandingan Kepuasan Pengguna Terhadap Metode Keamanan Smartphone Menggunakan Metode One-Way ANOVA. \n",
    "\n",
    "### Anggota Kelompok:\n",
    "### -Fadlullah Hasan [F1D02310008]\n",
    "### -Datu Reksa Hamza Putra [F1D02310045]\n",
    "### -Karina Septia Suwandi [F1D02310066]\n",
    "### -Nur Adinda Juniarti [F1D02310129]\n"
   ]
  },
  {
   "cell_type": "markdown",
   "id": "651e5d67",
   "metadata": {},
   "source": [
    "# Import Library"
   ]
  },
  {
   "cell_type": "code",
   "execution_count": 1,
   "id": "abda32e0",
   "metadata": {},
   "outputs": [],
   "source": [
    "import pandas as pd\n",
    "import seaborn as sns\n",
    "import matplotlib.pyplot as plt\n",
    "from scipy.stats import shapiro, levene\n",
    "import statsmodels.api as sm\n",
    "from statsmodels.formula.api import ols\n",
    "from statsmodels.stats.multicomp import pairwise_tukeyhsd"
   ]
  },
  {
   "cell_type": "markdown",
   "id": "89acd1b2",
   "metadata": {},
   "source": [
    "# Load Data"
   ]
  },
  {
   "cell_type": "code",
   "execution_count": null,
   "id": "7c28efb0",
   "metadata": {},
   "outputs": [],
   "source": [
    "df = pd.read_csv(\"StudentsPerformance.csv\")\n",
    "\n",
    "# Bersihkan nama kolom\n",
    "df.columns = df.columns.str.strip().str.lower().str.replace(' ', '_')"
   ]
  },
  {
   "cell_type": "code",
   "execution_count": 3,
   "id": "aeadf0a4",
   "metadata": {},
   "outputs": [
    {
     "name": "stdout",
     "output_type": "stream",
     "text": [
      "\n",
      "Statistik Deskriptif Skor Matematika per Pendidikan Orang Tua:\n",
      "                             count       mean        std   min    25%   50%  \\\n",
      "parental_level_of_education                                                   \n",
      "associate's degree           222.0  67.882883  15.112093  26.0  57.00  67.0   \n",
      "bachelor's degree            118.0  69.389831  14.943789  29.0  61.00  68.0   \n",
      "high school                  196.0  62.137755  14.539651   8.0  53.75  63.0   \n",
      "master's degree               59.0  69.745763  15.153915  40.0  55.50  73.0   \n",
      "some college                 226.0  67.128319  14.312897  19.0  59.00  67.5   \n",
      "some high school             179.0  63.497207  15.927989   0.0  53.00  65.0   \n",
      "\n",
      "                              75%    max  \n",
      "parental_level_of_education               \n",
      "associate's degree           80.0  100.0  \n",
      "bachelor's degree            79.0  100.0  \n",
      "high school                  72.0   99.0  \n",
      "master's degree              81.0   95.0  \n",
      "some college                 76.0  100.0  \n",
      "some high school             74.0   97.0  \n"
     ]
    }
   ],
   "source": [
    "print(\"\\nStatistik Deskriptif Skor Matematika per Pendidikan Orang Tua:\")\n",
    "print(df.groupby('parental_level_of_education')['math_score'].describe())"
   ]
  },
  {
   "cell_type": "markdown",
   "id": "ac4ef56d",
   "metadata": {},
   "source": [
    "# Uji Normalitas"
   ]
  },
  {
   "cell_type": "code",
   "execution_count": 4,
   "id": "63c9bc22",
   "metadata": {},
   "outputs": [
    {
     "name": "stdout",
     "output_type": "stream",
     "text": [
      "Uji Normalitas (Shapiro-Wilk per kelompok):\n",
      "bachelor's degree: p-value = 0.6044 (Normal)\n",
      "some college: p-value = 0.0959 (Normal)\n",
      "master's degree: p-value = 0.0317 (Tidak Normal)\n",
      "associate's degree: p-value = 0.0446 (Tidak Normal)\n",
      "high school: p-value = 0.0652 (Normal)\n",
      "some high school: p-value = 0.0052 (Tidak Normal)\n"
     ]
    }
   ],
   "source": [
    "print(\"Uji Normalitas (Shapiro-Wilk per kelompok):\")\n",
    "for level in df['parental_level_of_education'].unique():\n",
    "    stat, p = shapiro(df[df['parental_level_of_education'] == level]['math_score'])\n",
    "    print(f\"{level}: p-value = {p:.4f} {'(Normal)' if p > 0.05 else '(Tidak Normal)'}\")\n"
   ]
  },
  {
   "cell_type": "markdown",
   "id": "f2fffa38",
   "metadata": {},
   "source": [
    "# Uji Homogenitas"
   ]
  },
  {
   "cell_type": "code",
   "execution_count": 5,
   "id": "25ea3795",
   "metadata": {},
   "outputs": [
    {
     "name": "stdout",
     "output_type": "stream",
     "text": [
      "\n",
      "Uji Homogenitas Varians (Levene): p-value = 0.4584 (Homogen)\n"
     ]
    }
   ],
   "source": [
    "groups = [df[df['parental_level_of_education'] == level]['math_score']\n",
    "          for level in df['parental_level_of_education'].unique()]\n",
    "levene_stat, levene_p = levene(*groups)\n",
    "print(f\"\\nUji Homogenitas Varians (Levene): p-value = {levene_p:.4f} {'(Homogen)' if levene_p > 0.05 else '(Tidak Homogen)'}\")\n"
   ]
  },
  {
   "cell_type": "markdown",
   "id": "ed2d908e",
   "metadata": {},
   "source": [
    "# Uji Anova"
   ]
  },
  {
   "cell_type": "code",
   "execution_count": 6,
   "id": "4377f11e",
   "metadata": {},
   "outputs": [
    {
     "name": "stdout",
     "output_type": "stream",
     "text": [
      "\n",
      "Hasil ANOVA:\n",
      "                                       sum_sq     df         F    PR(>F)\n",
      "C(parental_level_of_education)    7295.561831    5.0  6.521583  0.000006\n",
      "Residual                        222393.517169  994.0       NaN       NaN\n",
      "\n",
      "Kesimpulan: Terdapat perbedaan signifikan skor matematika berdasarkan pendidikan orang tua (p = 0.000006)\n"
     ]
    },
    {
     "name": "stderr",
     "output_type": "stream",
     "text": [
      "C:\\Users\\ASUS\\AppData\\Local\\Temp\\ipykernel_24108\\3648820788.py:7: FutureWarning: Series.__getitem__ treating keys as positions is deprecated. In a future version, integer keys will always be treated as labels (consistent with DataFrame behavior). To access a value by position, use `ser.iloc[pos]`\n",
      "  p_val_anova = anova_table['PR(>F)'][0]\n"
     ]
    }
   ],
   "source": [
    "model = ols('math_score ~ C(parental_level_of_education)', data=df).fit()\n",
    "anova_table = sm.stats.anova_lm(model, typ=2)\n",
    "print(\"\\nHasil ANOVA:\")\n",
    "print(anova_table)\n",
    "\n",
    "# Interpretasi p-value\n",
    "p_val_anova = anova_table['PR(>F)'][0]\n",
    "if p_val_anova < 0.05:\n",
    "    print(f\"\\nKesimpulan: Terdapat perbedaan signifikan skor matematika berdasarkan pendidikan orang tua (p = {p_val_anova:.6f})\")\n",
    "else:\n",
    "    print(f\"\\nKesimpulan: Tidak ada perbedaan signifikan skor matematika antar kelompok pendidikan orang tua (p = {p_val_anova:.6f})\")\n"
   ]
  },
  {
   "cell_type": "code",
   "execution_count": 7,
   "id": "cc401f78",
   "metadata": {},
   "outputs": [
    {
     "name": "stdout",
     "output_type": "stream",
     "text": [
      "\n",
      "Uji Lanjutan (Tukey HSD jika ANOVA signifikan):\n",
      "            Multiple Comparison of Means - Tukey HSD, FWER=0.05             \n",
      "============================================================================\n",
      "      group1             group2      meandiff p-adj   lower    upper  reject\n",
      "----------------------------------------------------------------------------\n",
      "associate's degree bachelor's degree   1.5069 0.9503  -3.3587  6.3726  False\n",
      "associate's degree       high school  -5.7451 0.0013  -9.9311 -1.5591   True\n",
      "associate's degree   master's degree   1.8629 0.9578  -4.3927  8.1185  False\n",
      "associate's degree      some college  -0.7546 0.9948  -4.7903  3.2812  False\n",
      "associate's degree  some high school  -4.3857 0.0418   -8.676 -0.0954   True\n",
      " bachelor's degree       high school  -7.2521 0.0005 -12.2284 -2.2757   True\n",
      " bachelor's degree   master's degree   0.3559    1.0  -6.4539  7.1658  False\n",
      " bachelor's degree      some college  -2.2615 0.7676  -7.1122  2.5892  False\n",
      " bachelor's degree  some high school  -5.8926 0.0119  -10.957 -0.8282   True\n",
      "       high school   master's degree    7.608 0.0084   1.2659 13.9501   True\n",
      "       high school      some college   4.9906 0.0086    0.822  9.1592   True\n",
      "       high school  some high school   1.3595 0.9515   -3.056  5.7749  False\n",
      "   master's degree      some college  -2.6174 0.8384  -8.8614  3.6265  False\n",
      "   master's degree  some high school  -6.2486 0.0611   -12.66  0.1628  False\n",
      "      some college  some high school  -3.6311 0.1482  -7.9044  0.6422  False\n",
      "----------------------------------------------------------------------------\n"
     ]
    }
   ],
   "source": [
    "print(\"\\nUji Lanjutan (Tukey HSD jika ANOVA signifikan):\")\n",
    "tukey_result = pairwise_tukeyhsd(endog=df['math_score'],\n",
    "                                 groups=df['parental_level_of_education'],\n",
    "                                 alpha=0.05)\n",
    "print(tukey_result)\n"
   ]
  },
  {
   "cell_type": "markdown",
   "id": "4f281d28",
   "metadata": {},
   "source": [
    "# Visualisasi"
   ]
  },
  {
   "cell_type": "code",
   "execution_count": null,
   "id": "a9c277cc",
   "metadata": {},
   "outputs": [
    {
     "name": "stderr",
     "output_type": "stream",
     "text": [
      "C:\\Users\\ASUS\\AppData\\Local\\Temp\\ipykernel_24108\\3538842065.py:3: FutureWarning: \n",
      "\n",
      "Passing `palette` without assigning `hue` is deprecated and will be removed in v0.14.0. Assign the `x` variable to `hue` and set `legend=False` for the same effect.\n",
      "\n",
      "  sns.boxplot(x='parental_level_of_education', y='math_score', data=df, palette='Set2')\n"
     ]
    },
    {
     "data": {
      "image/png": "[encoded data removed]",
      "text/plain": [
       "<Figure size 1000x600 with 1 Axes>"
      ]
     },
     "metadata": {},
     "output_type": "display_data"
    }
   ],
   "source": [
    "\n",
    "plt.figure(figsize=(10, 6))\n",
    "sns.boxplot(x='parental_level_of_education', y='math_score', data=df, palette='Set2')\n",
    "plt.xticks(rotation=45)\n",
    "plt.title('Distribusi Skor Matematika berdasarkan Pendidikan Orang Tua')\n",
    "plt.xlabel('Tingkat Pendidikan Orang Tua')\n",
    "plt.ylabel('Skor Matematika')\n",
    "plt.tight_layout()\n",
    "plt.show()"
   ]
  }
 ],
 "metadata": {
  "kernelspec": {
   "display_name": "Python 3",
   "language": "python",
   "name": "python3"
  },
  "language_info": {
   "codemirror_mode": {
    "name": "ipython",
    "version": 3
   },
   "file_extension": ".py",
   "mimetype": "text/x-python",
   "name": "python",
   "nbconvert_exporter": "python",
   "pygments_lexer": "ipython3",
   "version": "3.13.2"
  }
 },
 "nbformat": 4,
 "nbformat_minor": 5
}
